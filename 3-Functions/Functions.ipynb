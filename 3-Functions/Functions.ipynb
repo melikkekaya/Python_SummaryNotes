{
 "cells": [
  {
   "attachments": {},
   "cell_type": "markdown",
   "metadata": {},
   "source": [
    "# Functions"
   ]
  },
  {
   "attachments": {},
   "cell_type": "markdown",
   "metadata": {},
   "source": [
    "**A function is a piece of code written to carry out a specified task**"
   ]
  },
  {
   "attachments": {},
   "cell_type": "markdown",
   "metadata": {},
   "source": [
    "- to bundle a set of instructions that we want to use repeatedly \n",
    "- to handle the complexity\n",
    "- to get self-contained func. in a sub-program and to call when needed"
   ]
  },
  {
   "attachments": {},
   "cell_type": "markdown",
   "metadata": {},
   "source": [
    "Three types of functions in Python:\n",
    "1. Built-in functions: `help()`, `min()`, `print()`, and so on.. (https://docs.python.org/3/library/functions.html).\n",
    "        \n",
    "2. User-Defined Functions (UDFs)\n",
    "\n",
    "3. Anonymous functions (`lambda` functions: because they are not declared with the standard `def` keyword)\n",
    "  "
   ]
  },
  {
   "attachments": {},
   "cell_type": "markdown",
   "metadata": {},
   "source": [
    "## How To Define A Function"
   ]
  },
  {
   "cell_type": "code",
   "execution_count": null,
   "metadata": {},
   "outputs": [],
   "source": [
    "def function_name(parameters):\n",
    "    \"\"\"docstring\"\"\"\n",
    "    statement(s)\n",
    "    pass\n",
    "\n",
    "function_name()             # calling the function\n",
    "\n",
    "# function_name.__doc__     # definition of the function"
   ]
  },
  {
   "cell_type": "code",
   "execution_count": null,
   "metadata": {},
   "outputs": [],
   "source": [
    "def higher_num(a,b):\n",
    "    if a > b:               # adding different variables, loops, parameters into a function...\n",
    "        return a\n",
    "    elif a < b:\n",
    "        return b\n",
    "    else:\n",
    "        print(\"None\")\n",
    "\n",
    "higher_num(3,2)"
   ]
  },
  {
   "cell_type": "code",
   "execution_count": null,
   "metadata": {},
   "outputs": [],
   "source": [
    "def hello():\n",
    "    \"\"\"This functions saltues you..\"\"\"\n",
    "    name = input(\"Input your name: \")\n",
    "    print(f\"Hello {name}!!\")\n",
    "\n",
    "hello.__doc__"
   ]
  },
  {
   "attachments": {},
   "cell_type": "markdown",
   "metadata": {},
   "source": [
    "## Return - Print"
   ]
  },
  {
   "cell_type": "code",
   "execution_count": null,
   "metadata": {},
   "outputs": [
    {
     "name": "stdout",
     "output_type": "stream",
     "text": [
      "2\n"
     ]
    }
   ],
   "source": [
    "def print_two():\n",
    "    print(2)\n",
    "\n",
    "print_two()"
   ]
  },
  {
   "cell_type": "code",
   "execution_count": null,
   "metadata": {},
   "outputs": [
    {
     "data": {
      "text/plain": [
       "2"
      ]
     },
     "execution_count": 14,
     "metadata": {},
     "output_type": "execute_result"
    }
   ],
   "source": [
    "def return_two():\n",
    "    return 2\n",
    "\n",
    "return_two()"
   ]
  },
  {
   "cell_type": "code",
   "execution_count": null,
   "metadata": {},
   "outputs": [
    {
     "name": "stdout",
     "output_type": "stream",
     "text": [
      "2\n",
      "None\n"
     ]
    }
   ],
   "source": [
    "print(print_two())"
   ]
  },
  {
   "cell_type": "code",
   "execution_count": null,
   "metadata": {},
   "outputs": [
    {
     "name": "stdout",
     "output_type": "stream",
     "text": [
      "2\n"
     ]
    }
   ],
   "source": [
    "print(return_two())"
   ]
  },
  {
   "cell_type": "code",
   "execution_count": null,
   "metadata": {},
   "outputs": [],
   "source": [
    "def hello():\n",
    "  return(\"Hello World\") \n",
    "\n",
    "\n",
    "def hello_noreturn():\n",
    "  print(\"Hello World\")\n",
    "  \n",
    "# Multiply the output of `hello()` with 2 \n",
    "hello() * 2\n",
    "\n",
    "# (Try to) multiply the output of `hello_noreturn()` with 2 \n",
    "# hello_noreturn() * 2"
   ]
  },
  {
   "attachments": {},
   "cell_type": "markdown",
   "metadata": {},
   "source": [
    "**Fonctions stops where return works:**"
   ]
  },
  {
   "cell_type": "code",
   "execution_count": null,
   "metadata": {},
   "outputs": [],
   "source": [
    "def fonk(a,b):\n",
    "    return a\n",
    "    return b\n",
    "\n",
    "fonk(7, 12)"
   ]
  },
  {
   "cell_type": "code",
   "execution_count": 130,
   "metadata": {},
   "outputs": [],
   "source": [
    "def run():\n",
    "  for x in range(10):\n",
    "     if x == 2:\n",
    "       return\n",
    "  print(\"Run!\")\n",
    "  \n",
    "run()"
   ]
  },
  {
   "attachments": {},
   "cell_type": "markdown",
   "metadata": {},
   "source": [
    "`return` statement may return multiple values as tuples."
   ]
  },
  {
   "cell_type": "code",
   "execution_count": null,
   "metadata": {},
   "outputs": [],
   "source": [
    "def plus(a,b):\n",
    "  sum = a + b\n",
    "  return (sum, a)\n",
    "\n",
    "# Call `plus()` and unpack variables \n",
    "sum, a = plus(3,4)\n",
    "\n",
    "# Print `sum()`\n",
    "print(sum)"
   ]
  },
  {
   "attachments": {},
   "cell_type": "markdown",
   "metadata": {},
   "source": [
    "## Function Arguments\n",
    "- Default arguments\n",
    "        \n",
    "- Required arguments\n",
    "        \n",
    "- Keyword arguments\n",
    "        \n",
    "- Variable number of arguments"
   ]
  },
  {
   "attachments": {},
   "cell_type": "markdown",
   "metadata": {},
   "source": [
    "### default arg."
   ]
  },
  {
   "cell_type": "code",
   "execution_count": null,
   "metadata": {},
   "outputs": [
    {
     "data": {
      "text/plain": [
       "12"
      ]
     },
     "execution_count": 17,
     "metadata": {},
     "output_type": "execute_result"
    }
   ],
   "source": [
    "def return_num(num):\n",
    "    return num\n",
    "\n",
    "return_num(12)"
   ]
  },
  {
   "cell_type": "code",
   "execution_count": null,
   "metadata": {},
   "outputs": [
    {
     "data": {
      "text/plain": [
       "24"
      ]
     },
     "execution_count": 19,
     "metadata": {},
     "output_type": "execute_result"
    }
   ],
   "source": [
    "def return_num(num=24):\n",
    "    return num\n",
    "\n",
    "# return_num(15)\n",
    "return_num()"
   ]
  },
  {
   "cell_type": "code",
   "execution_count": null,
   "metadata": {},
   "outputs": [],
   "source": [
    "def plus(a, b=2):\n",
    "  return a + b\n",
    "  \n",
    "# Call `plus()` with only `a` parameter\n",
    "# plus(a=1)\n",
    "\n",
    "# Call `plus()` with `a` and `b` parameters\n",
    "plus(a=1, b=3)\n",
    "# plus()"
   ]
  },
  {
   "attachments": {},
   "cell_type": "markdown",
   "metadata": {},
   "source": [
    "### required arg."
   ]
  },
  {
   "cell_type": "code",
   "execution_count": null,
   "metadata": {},
   "outputs": [],
   "source": [
    "def plus(a,b):\n",
    "  return a + b"
   ]
  },
  {
   "attachments": {},
   "cell_type": "markdown",
   "metadata": {},
   "source": [
    "### keyword arg."
   ]
  },
  {
   "cell_type": "code",
   "execution_count": null,
   "metadata": {},
   "outputs": [],
   "source": [
    "def plus(a,b):\n",
    "  return a + b\n",
    "  \n",
    "# Call `plus()` function with parameters \n",
    "plus(2,3)\n",
    "\n",
    "# Call `plus()` function with keyword arguments\n",
    "plus(a=1, b=2)"
   ]
  },
  {
   "attachments": {},
   "cell_type": "markdown",
   "metadata": {},
   "source": [
    "**Note that by using the keyword arguments, you can also switch around the order of the parameters and still get the same result when you execute your function:**"
   ]
  },
  {
   "cell_type": "code",
   "execution_count": null,
   "metadata": {},
   "outputs": [],
   "source": [
    "def div(a,b):\n",
    "  return a / b\n",
    "  \n",
    "# Call function with keyword arguments\n",
    "div(b=8, a=4)"
   ]
  },
  {
   "attachments": {},
   "cell_type": "markdown",
   "metadata": {},
   "source": [
    "### variable number of arg. (arbitrary arg.)"
   ]
  },
  {
   "attachments": {},
   "cell_type": "markdown",
   "metadata": {},
   "source": [
    "# *ARGS"
   ]
  },
  {
   "cell_type": "code",
   "execution_count": null,
   "metadata": {},
   "outputs": [],
   "source": [
    "def name_surname(name, surname):\n",
    "    return \" \".join([name, surname])\n",
    "\n",
    "name_surname(\"Melike\", \"Kaya\")"
   ]
  },
  {
   "cell_type": "code",
   "execution_count": null,
   "metadata": {},
   "outputs": [],
   "source": [
    "name_surname(\"Melike\", \"Kaya\", \"Kardıç\")"
   ]
  },
  {
   "cell_type": "code",
   "execution_count": 32,
   "metadata": {},
   "outputs": [
    {
     "data": {
      "text/plain": [
       "'Melike Kaya Kardıç'"
      ]
     },
     "execution_count": 32,
     "metadata": {},
     "output_type": "execute_result"
    }
   ],
   "source": [
    "def name_surname(*args):\n",
    "    return \" \".join(args)\n",
    "\n",
    "name_surname(\"Melike\", \"Kaya\", \"Kardıç\")"
   ]
  },
  {
   "cell_type": "code",
   "execution_count": 38,
   "metadata": {},
   "outputs": [
    {
     "name": "stdout",
     "output_type": "stream",
     "text": [
      "Melike\n",
      "Kaya\n"
     ]
    }
   ],
   "source": [
    "def a(*args):\n",
    "    for item in args:\n",
    "        print (item)\n",
    "\n",
    "a(\"Melike\", \"Kaya\")"
   ]
  },
  {
   "cell_type": "code",
   "execution_count": null,
   "metadata": {},
   "outputs": [],
   "source": [
    "def plus(*args):\n",
    "  total = 0\n",
    "  for i in args:\n",
    "    total += i\n",
    "  return total\n",
    "\n",
    "# Calculate the sum  \n",
    "plus(20,30,40,50)"
   ]
  },
  {
   "attachments": {},
   "cell_type": "markdown",
   "metadata": {},
   "source": [
    "# **KWARGS\n",
    "\n",
    "(arbitrary keyword arg.)\n",
    "\n",
    "**dict olarak tutuluyor**"
   ]
  },
  {
   "cell_type": "code",
   "execution_count": 186,
   "metadata": {},
   "outputs": [
    {
     "name": "stdout",
     "output_type": "stream",
     "text": [
      "first == Melike\n",
      "mid == Kaya\n",
      "last == Kardıç\n"
     ]
    }
   ],
   "source": [
    "def words_by_words(**kwargs):\n",
    "\tfor key, value in kwargs.items():\n",
    "\t\tprint(f\"{key} == {value}\")\n",
    "\n",
    "\n",
    "# Driver code\n",
    "words_by_words(first='Melike', mid='Kaya', last='Kardıç')\n"
   ]
  },
  {
   "cell_type": "code",
   "execution_count": 189,
   "metadata": {},
   "outputs": [
    {
     "data": {
      "text/plain": [
       "'Python is awesome! '"
      ]
     },
     "execution_count": 189,
     "metadata": {},
     "output_type": "execute_result"
    }
   ],
   "source": [
    "def concatenate(**words):       # args (*)\n",
    "    result=\"\"\n",
    "    for i in words.values():\n",
    "        result += i\n",
    "        result += \" \"\n",
    "    return result\n",
    "\n",
    "concatenate(a = \"Python\", b = \"is\", c = \"awesome!\")"
   ]
  },
  {
   "cell_type": "code",
   "execution_count": null,
   "metadata": {},
   "outputs": [],
   "source": [
    "def concatenate(**words):       # kwargs (**)\n",
    "    result1=\"\"\n",
    "    result2=\"\"\n",
    "    for i in words.values():\n",
    "        result1+=i\n",
    "    for k in words.keys():\n",
    "        result2+=k\n",
    "    return result1, result2\n",
    "\n",
    "concatenate(a = \"Python \", b = \"is \", c = \"awesome! \")"
   ]
  },
  {
   "cell_type": "code",
   "execution_count": null,
   "metadata": {},
   "outputs": [],
   "source": [
    "def intro(**data):\n",
    "\n",
    "\tfor key, value in data.items():\n",
    "\t\tprint(f\"{key} is {value}\")\n",
    "\n",
    "intro(Firstname=\"Melike\", Lastname=\"Kaya\", Age=27, Phone=1234567890)"
   ]
  },
  {
   "cell_type": "code",
   "execution_count": 3,
   "metadata": {},
   "outputs": [
    {
     "name": "stdout",
     "output_type": "stream",
     "text": [
      "Fatma\n"
     ]
    }
   ],
   "source": [
    "def find_second_name(**kwargs):\n",
    "    if \"second_name\" in kwargs.keys():\n",
    "        print (kwargs[\"second_name\"])\n",
    "    else:\n",
    "        print (\"No second name!\")\n",
    "\n",
    "find_second_name(name= \"Melike \", second_name= \"Fatma\", surname= \"Kaya\")\n"
   ]
  },
  {
   "attachments": {},
   "cell_type": "markdown",
   "metadata": {},
   "source": [
    "## Global - Local Variables"
   ]
  },
  {
   "cell_type": "code",
   "execution_count": null,
   "metadata": {},
   "outputs": [],
   "source": [
    "# Global variable `init`\n",
    "init = 1\n",
    "\n",
    "# Define `plus()` function to accept a variable number of arguments\n",
    "def plus(*args):\n",
    "  # Local variable `sum()`\n",
    "  total = 0\n",
    "  for i in args:\n",
    "    total += i\n",
    "  return total\n",
    "  \n",
    "# Access the global variable\n",
    "print(\"this is the initialized value \" + str(init))\n",
    "\n",
    "# (Try to) access the local variable\n",
    "# print(\"this is the sum \" + str(total))"
   ]
  },
  {
   "attachments": {},
   "cell_type": "markdown",
   "metadata": {},
   "source": [
    "# map, filter and lambda\n",
    "\n",
    "## map()\n",
    "\n",
    "**\"map\" applies function to each elements of a list. (before we were doing that by \"for loop\".)**\n",
    "\n",
    "**\"filter\" takes list elements from the list by applying function.**"
   ]
  },
  {
   "cell_type": "code",
   "execution_count": null,
   "metadata": {},
   "outputs": [],
   "source": [
    "def double(a):\n",
    "    return a**2\n",
    "\n",
    "double(12)"
   ]
  },
  {
   "cell_type": "code",
   "execution_count": 96,
   "metadata": {},
   "outputs": [],
   "source": [
    "list1 = [*range(1,6)]       # broadcast özelleiği (*) ile listeye çevirme\n",
    "list2 = list(range(1,6))"
   ]
  },
  {
   "cell_type": "code",
   "execution_count": null,
   "metadata": {},
   "outputs": [],
   "source": [
    "print(list1)\n",
    "\n",
    "for i in range(len(list1)):\n",
    "    list1[i] = double(list1[i])\n",
    "\n",
    "list1"
   ]
  },
  {
   "cell_type": "code",
   "execution_count": null,
   "metadata": {},
   "outputs": [],
   "source": [
    "map(double, list1)\n",
    "# [*map(double, list1)]\n",
    "# list(map(double, list1))"
   ]
  },
  {
   "cell_type": "code",
   "execution_count": 84,
   "metadata": {},
   "outputs": [],
   "source": [
    "def odds(b):\n",
    "    if b%2==1:\n",
    "        return b\n",
    "    # else:\n",
    "    #     return None"
   ]
  },
  {
   "cell_type": "code",
   "execution_count": 89,
   "metadata": {},
   "outputs": [],
   "source": [
    "def odds2(b):\n",
    "    return b if b%2==1 else None"
   ]
  },
  {
   "cell_type": "code",
   "execution_count": null,
   "metadata": {},
   "outputs": [],
   "source": [
    "# odds(3)\n",
    "# odds2(1)"
   ]
  },
  {
   "attachments": {},
   "cell_type": "markdown",
   "metadata": {},
   "source": [
    "## filter()"
   ]
  },
  {
   "cell_type": "code",
   "execution_count": null,
   "metadata": {},
   "outputs": [],
   "source": [
    "list3 = [*range(1,20)]\n",
    "\n",
    "# filter(odds, list1)\n",
    "[*filter(odds, list3)]"
   ]
  },
  {
   "attachments": {},
   "cell_type": "markdown",
   "metadata": {},
   "source": [
    "## lambda\n",
    "\n",
    "**lambda helps to create a function on the road, without defining before** \n",
    "\n",
    "(Anonymous functions)"
   ]
  },
  {
   "cell_type": "code",
   "execution_count": null,
   "metadata": {},
   "outputs": [],
   "source": [
    "def double(a):\n",
    "    return a*2\n",
    "    \n",
    "double(5)"
   ]
  },
  {
   "cell_type": "code",
   "execution_count": null,
   "metadata": {},
   "outputs": [],
   "source": [
    "double = lambda b: b*2\n",
    "\n",
    "double(5)"
   ]
  },
  {
   "cell_type": "code",
   "execution_count": null,
   "metadata": {},
   "outputs": [],
   "source": [
    "sum = lambda x, y: x + y;\n",
    "sum(4,5)\n",
    "\n",
    "# \"Translate\" to a UDF\n",
    "def sum(x, y):\n",
    "  return x+y"
   ]
  },
  {
   "cell_type": "code",
   "execution_count": null,
   "metadata": {},
   "outputs": [],
   "source": [
    "list4 = [*range(2,8)]\n",
    "\n",
    "list(map(lambda c: c**2, list4))"
   ]
  },
  {
   "cell_type": "code",
   "execution_count": null,
   "metadata": {},
   "outputs": [],
   "source": [
    "def odds(b):\n",
    "    if b%2==1:\n",
    "        return b"
   ]
  },
  {
   "cell_type": "code",
   "execution_count": null,
   "metadata": {},
   "outputs": [],
   "source": [
    "# list4\n",
    "[*filter(lambda d:d if d%2==1 else None, list4)]"
   ]
  },
  {
   "cell_type": "code",
   "execution_count": null,
   "metadata": {},
   "outputs": [],
   "source": [
    "raise_to_power = lambda x, y: x ** y\n",
    "raise_to_power(2, 3)"
   ]
  },
  {
   "cell_type": "code",
   "execution_count": null,
   "metadata": {},
   "outputs": [],
   "source": [
    "def raise_power (x,y):\n",
    "    return x**y\n",
    "\n",
    "raise_power(2,3)"
   ]
  },
  {
   "attachments": {},
   "cell_type": "markdown",
   "metadata": {},
   "source": [
    "## reduce()"
   ]
  },
  {
   "cell_type": "code",
   "execution_count": 138,
   "metadata": {},
   "outputs": [
    {
     "name": "stdout",
     "output_type": "stream",
     "text": [
      "[6, 7, 8, 9, 10]\n",
      "[2, 4, 6, 8, 10, 12, 14, 16, 18, 20]\n",
      "55\n"
     ]
    }
   ],
   "source": [
    "from functools import reduce\n",
    "\n",
    "my_list = [1,2,3,4,5,6,7,8,9,10]\n",
    "\n",
    "# Use lambda function with `filter()`\n",
    "filtered_list = list(filter(lambda x: (x*2 > 10), my_list))\n",
    "\n",
    "# Use lambda function with `map()`\n",
    "mapped_list = list(map(lambda x: x*2, my_list))\n",
    "\n",
    "# Use lambda function with `reduce()`\n",
    "reduced_list = reduce(lambda x, y: x+y, my_list)\n",
    "\n",
    "print(filtered_list)\n",
    "print(mapped_list)\n",
    "print(reduced_list)"
   ]
  },
  {
   "attachments": {},
   "cell_type": "markdown",
   "metadata": {},
   "source": [
    "# Recursive Function\n",
    "\n",
    "**A function which references itself**"
   ]
  },
  {
   "cell_type": "code",
   "execution_count": 4,
   "metadata": {},
   "outputs": [
    {
     "data": {
      "text/plain": [
       "55"
      ]
     },
     "execution_count": 4,
     "metadata": {},
     "output_type": "execute_result"
    }
   ],
   "source": [
    "def increase(a):\n",
    "    if a == 1:\n",
    "        return 1\n",
    "    else:\n",
    "        return a + increase(a-1)\n",
    "\n",
    "increase(10)"
   ]
  },
  {
   "cell_type": "code",
   "execution_count": 159,
   "metadata": {},
   "outputs": [],
   "source": [
    "def fib(n):\n",
    "    if n <= 1:\n",
    "       return n\n",
    "    else:\n",
    "       return(fib(n-1) + fib(n-2))"
   ]
  },
  {
   "cell_type": "code",
   "execution_count": null,
   "metadata": {},
   "outputs": [],
   "source": [
    "num = int(input())  \n",
    "for i in range(num):  \n",
    "   print(fib(i))  "
   ]
  },
  {
   "cell_type": "code",
   "execution_count": null,
   "metadata": {},
   "outputs": [],
   "source": [
    "[fib(n) for n in range(12)]"
   ]
  }
 ],
 "metadata": {
  "kernelspec": {
   "display_name": "Python 3",
   "language": "python",
   "name": "python3"
  },
  "language_info": {
   "codemirror_mode": {
    "name": "ipython",
    "version": 3
   },
   "file_extension": ".py",
   "mimetype": "text/x-python",
   "name": "python",
   "nbconvert_exporter": "python",
   "pygments_lexer": "ipython3",
   "version": "3.11.0"
  },
  "orig_nbformat": 4,
  "vscode": {
   "interpreter": {
    "hash": "aee8b7b246df8f9039afb4144a1f6fd8d2ca17a180786b69acc140d282b71a49"
   }
  }
 },
 "nbformat": 4,
 "nbformat_minor": 2
}
